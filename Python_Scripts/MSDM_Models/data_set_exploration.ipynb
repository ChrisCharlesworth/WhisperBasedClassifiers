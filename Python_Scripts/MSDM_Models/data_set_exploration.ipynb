{
 "cells": [
  {
   "cell_type": "code",
   "execution_count": 1,
   "metadata": {},
   "outputs": [],
   "source": [
    "import os"
   ]
  },
  {
   "cell_type": "code",
   "execution_count": 33,
   "metadata": {},
   "outputs": [
    {
     "name": "stdout",
     "output_type": "stream",
     "text": [
      "Total number of entries: 19824\n",
      "Combined JSON file created successfully at: combined_subset.json\n"
     ]
    }
   ],
   "source": [
    "current_dir = os.getcwd()\n",
    "parent_dir = os.path.abspath(os.path.join(current_dir, os.pardir))\n",
    "grandparent_dir = os.path.abspath(os.path.join(parent_dir, os.pardir))\n",
    "file_path = os.path.join(grandparent_dir, \"data/MSDM/train_data/train_data.list\")\n",
    "\n",
    "\n",
    "import json\n",
    "\n",
    "# Path to the .list file\n",
    "# file_path = 'path_to_your_file.list'\n",
    "\n",
    "# Function to read and filter the file\n",
    "import json\n",
    "import os\n",
    "\n",
    "# Path to the .list file\n",
    "# Initialize the dictionary to hold lists of entries by label\n",
    "label_dict = {0: [], 1: [], 2: [], 3: []}\n",
    "\n",
    "# Read the data from the .list file line by line\n",
    "with open(file_path, 'r') as file:\n",
    "    for line in file:\n",
    "        entry = json.loads(line.strip())\n",
    "        label = entry['label']\n",
    "        if label in label_dict:\n",
    "            label_dict[label].append(entry['wav'])\n",
    "\n",
    "# Limit each label's list to the first 4956 entries\n",
    "limited_data = []\n",
    "for label in label_dict:\n",
    "    limited_data.extend(label_dict[label][:4956])\n",
    "\n",
    "# Extract only the names without the file path and extension\n",
    "limited_data = [os.path.splitext(os.path.basename(wav))[0] + \".json\" for wav in limited_data]\n",
    "\n",
    "# Print the total number of entries to verify\n",
    "print(f\"Total number of entries: {len(limited_data)}\")\n",
    "\n",
    "\n",
    "\n",
    "directory = os.path.join(grandparent_dir, \"MSDM_Embeddings\")\n",
    "# Initialize an empty dictionary to hold combined data\n",
    "# combined_data = {}\n",
    "\n",
    "combined_data = []\n",
    "\n",
    "# Loop through each file in the list\n",
    "for file_name in limited_data:\n",
    "    file_path = os.path.join(directory, file_name)\n",
    "    with open(file_path, 'r') as file:\n",
    "        # Load JSON data from the file\n",
    "        data = json.load(file)\n",
    "        # Append data to combined_data list\n",
    "        combined_data.append(data)\n",
    "\n",
    "# Path for the output combined JSON file\n",
    "output_file_path = 'combined_subset.json'\n",
    "\n",
    "# Write combined data to the output file\n",
    "with open(output_file_path, 'w') as output_file:\n",
    "    json.dump(combined_data, output_file, indent=4)\n",
    "\n",
    "print(\"Combined JSON file created successfully at:\", output_file_path)"
   ]
  },
  {
   "cell_type": "code",
   "execution_count": null,
   "metadata": {},
   "outputs": [],
   "source": []
  }
 ],
 "metadata": {
  "kernelspec": {
   "display_name": "env",
   "language": "python",
   "name": "python3"
  },
  "language_info": {
   "codemirror_mode": {
    "name": "ipython",
    "version": 3
   },
   "file_extension": ".py",
   "mimetype": "text/x-python",
   "name": "python",
   "nbconvert_exporter": "python",
   "pygments_lexer": "ipython3",
   "version": "3.8.18"
  },
  "orig_nbformat": 4,
  "vscode": {
   "interpreter": {
    "hash": "4348213d3ba5b0f93d8cc4a145b996ce6c028cbbcf404838af432985bb8db3e8"
   }
  }
 },
 "nbformat": 4,
 "nbformat_minor": 2
}
